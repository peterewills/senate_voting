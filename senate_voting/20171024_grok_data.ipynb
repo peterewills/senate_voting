{
 "cells": [
  {
   "cell_type": "markdown",
   "metadata": {},
   "source": [
    "# Analyze senate voting data\n",
    "\n",
    "The data is stored in `.gexf` files in the directory `/graphs`"
   ]
  },
  {
   "cell_type": "code",
   "execution_count": 13,
   "metadata": {
    "collapsed": true
   },
   "outputs": [],
   "source": [
    "graphs = {}\n",
    "for file in os.listdir('graphs'):\n",
    "    path = os.path.join('graphs',file)\n",
    "    congress = int(file[6:9])\n",
    "    G = nx.read_gexf(path)\n",
    "    graphs[congress] = G"
   ]
  },
  {
   "cell_type": "code",
   "execution_count": 16,
   "metadata": {
    "collapsed": false
   },
   "outputs": [
    {
     "data": {
      "text/plain": [
       "['Leahy (D-VT)',\n",
       " 'Lieberman (D-CT)',\n",
       " 'Baucus (D-MT)',\n",
       " 'Coverdell (R-GA)',\n",
       " 'Shelby (R-AL)']"
      ]
     },
     "execution_count": 16,
     "metadata": {},
     "output_type": "execute_result"
    }
   ],
   "source": [
    "graphs[104].nodes()[:5]"
   ]
  },
  {
   "cell_type": "markdown",
   "metadata": {},
   "source": [
    "I'm not sure how we're going to measure the resistance distance between congresses, since there is only partial node correspondence. We could just let the state be the deciding factor here, but that might be disingenuous, since they could be in different parties, or have very different political persuasions. But we  need some way to compare these graphs. Let's mull this over a bit."
   ]
  },
  {
   "cell_type": "code",
   "execution_count": null,
   "metadata": {
    "collapsed": true
   },
   "outputs": [],
   "source": []
  }
 ],
 "metadata": {
  "anaconda-cloud": {},
  "kernelspec": {
   "display_name": "Python [default]",
   "language": "python",
   "name": "python3"
  },
  "language_info": {
   "codemirror_mode": {
    "name": "ipython",
    "version": 3
   },
   "file_extension": ".py",
   "mimetype": "text/x-python",
   "name": "python",
   "nbconvert_exporter": "python",
   "pygments_lexer": "ipython3",
   "version": "3.5.2"
  }
 },
 "nbformat": 4,
 "nbformat_minor": 2
}
